{
  "nbformat": 4,
  "nbformat_minor": 0,
  "metadata": {
    "colab": {
      "provenance": [],
      "authorship_tag": "ABX9TyO8tWTvGRVWQNQBtUzgT5DS",
      "include_colab_link": true
    },
    "kernelspec": {
      "name": "python3",
      "display_name": "Python 3"
    },
    "language_info": {
      "name": "python"
    }
  },
  "cells": [
    {
      "cell_type": "markdown",
      "metadata": {
        "id": "view-in-github",
        "colab_type": "text"
      },
      "source": [
        "<a href=\"https://colab.research.google.com/github/Kunazhub/AI-ML/blob/main/Encoder.ipynb\" target=\"_parent\"><img src=\"https://colab.research.google.com/assets/colab-badge.svg\" alt=\"Open In Colab\"/></a>"
      ]
    },
    {
      "cell_type": "code",
      "execution_count": 1,
      "metadata": {
        "id": "O7Mz3Xrhq5f0"
      },
      "outputs": [],
      "source": [
        "from sklearn.preprocessing import LabelEncoder"
      ]
    },
    {
      "cell_type": "code",
      "source": [
        "labels = [\"cat\", \"dog\", \"fish\", \"dog\", \"cat\"]\n",
        "label_encoder = LabelEncoder()\n",
        "encoded_labels = label_encoder.fit_transform(labels)"
      ],
      "metadata": {
        "id": "iXHBWEpkrOZS"
      },
      "execution_count": 2,
      "outputs": []
    },
    {
      "cell_type": "code",
      "source": [
        "print(\"Encoded Labels:\", encoded_labels)"
      ],
      "metadata": {
        "colab": {
          "base_uri": "https://localhost:8080/"
        },
        "id": "CxY1doTZrbWM",
        "outputId": "10e45d4d-7ca7-4edb-9655-8f18e10fbe9e"
      },
      "execution_count": 3,
      "outputs": [
        {
          "output_type": "stream",
          "name": "stdout",
          "text": [
            "Encoded Labels: [0 1 2 1 0]\n"
          ]
        }
      ]
    },
    {
      "cell_type": "code",
      "source": [
        "print(\"Inverse Transform (Original Labels):\", label_encoder.inverse_transform(encoded_labels))"
      ],
      "metadata": {
        "colab": {
          "base_uri": "https://localhost:8080/"
        },
        "id": "rpjjkbnmrc5a",
        "outputId": "35c76468-ed31-4ac2-9b11-645280a59f25"
      },
      "execution_count": 4,
      "outputs": [
        {
          "output_type": "stream",
          "name": "stdout",
          "text": [
            "Inverse Transform (Original Labels): ['cat' 'dog' 'fish' 'dog' 'cat']\n"
          ]
        }
      ]
    },
    {
      "cell_type": "code",
      "source": [
        "from sklearn.preprocessing import OneHotEncoder"
      ],
      "metadata": {
        "id": "uvg1zXaus9Md"
      },
      "execution_count": 5,
      "outputs": []
    },
    {
      "cell_type": "code",
      "source": [
        "categories = [[\"cat\"], [\"dog\"], [\"fish\"], [\"dog\"], [\"cat\"]]"
      ],
      "metadata": {
        "id": "vo28jk7FtAlt"
      },
      "execution_count": 8,
      "outputs": []
    },
    {
      "cell_type": "code",
      "source": [
        "onehot_encoder = OneHotEncoder(sparse_output=False)"
      ],
      "metadata": {
        "id": "muc2klIntDQv"
      },
      "execution_count": 11,
      "outputs": []
    },
    {
      "cell_type": "code",
      "source": [
        "encoded_features = onehot_encoder.fit_transform(categories)"
      ],
      "metadata": {
        "id": "A5kfX_G0wSIm"
      },
      "execution_count": 12,
      "outputs": []
    },
    {
      "cell_type": "code",
      "source": [
        "print(\"Encoded Features (One-Hot):\")\n",
        "print(encoded_features)"
      ],
      "metadata": {
        "colab": {
          "base_uri": "https://localhost:8080/"
        },
        "id": "RalvGnYmwg6K",
        "outputId": "d58c7ece-c9cd-488f-d0d2-7afcbc3b259c"
      },
      "execution_count": 13,
      "outputs": [
        {
          "output_type": "stream",
          "name": "stdout",
          "text": [
            "Encoded Features (One-Hot):\n",
            "[[1. 0. 0.]\n",
            " [0. 1. 0.]\n",
            " [0. 0. 1.]\n",
            " [0. 1. 0.]\n",
            " [1. 0. 0.]]\n"
          ]
        }
      ]
    },
    {
      "cell_type": "code",
      "source": [
        "print(\"\\nCategories:\", onehot_encoder.categories_)"
      ],
      "metadata": {
        "colab": {
          "base_uri": "https://localhost:8080/"
        },
        "id": "25ybbVxvwno6",
        "outputId": "24986a57-aaf1-40fe-b1f5-90afd7a31aa4"
      },
      "execution_count": 14,
      "outputs": [
        {
          "output_type": "stream",
          "name": "stdout",
          "text": [
            "\n",
            "Categories: [array(['cat', 'dog', 'fish'], dtype=object)]\n"
          ]
        }
      ]
    },
    {
      "cell_type": "code",
      "source": [
        "original_categories = onehot_encoder.inverse_transform(encoded_features)\n",
        "print(\"\\nInverse Transformed Categories:\")\n",
        "print(original_categories)"
      ],
      "metadata": {
        "colab": {
          "base_uri": "https://localhost:8080/"
        },
        "id": "tUE3ZS5LzI10",
        "outputId": "c8730529-ede5-4dd7-cd98-9a01e3ab76fd"
      },
      "execution_count": 15,
      "outputs": [
        {
          "output_type": "stream",
          "name": "stdout",
          "text": [
            "\n",
            "Inverse Transformed Categories:\n",
            "[['cat']\n",
            " ['dog']\n",
            " ['fish']\n",
            " ['dog']\n",
            " ['cat']]\n"
          ]
        }
      ]
    }
  ]
}